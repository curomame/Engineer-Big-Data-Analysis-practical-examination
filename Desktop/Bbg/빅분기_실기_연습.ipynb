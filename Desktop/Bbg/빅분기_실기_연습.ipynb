{
  "cells": [
    {
      "cell_type": "markdown",
      "metadata": {
        "colab_type": "text",
        "id": "view-in-github"
      },
      "source": [
        "<a href=\"https://colab.research.google.com/github/curomame/Engineer-Big-Data-Analysis-practical-examination/blob/master/%EB%B9%85%EB%B6%84%EA%B8%B0_%EC%8B%A4%EA%B8%B0_%EC%97%B0%EC%8A%B5.ipynb\" target=\"_parent\"><img src=\"https://colab.research.google.com/assets/colab-badge.svg\" alt=\"Open In Colab\"/></a>"
      ]
    },
    {
      "cell_type": "code",
      "execution_count": null,
      "metadata": {
        "colab": {
          "base_uri": "https://localhost:8080/"
        },
        "id": "9QAZqoFtE-7o",
        "outputId": "7c47b5ee-2e9f-4929-f200-6ca2e4d1df89"
      },
      "outputs": [
        {
          "name": "stdout",
          "output_type": "stream",
          "text": [
            "   total  speeding  alcohol  not_distracted  no_previous  ins_premium  \\\n",
            "0   18.8     7.332    5.640          18.048       15.040       784.55   \n",
            "1   18.1     7.421    4.525          16.290       17.014      1053.48   \n",
            "2   18.6     6.510    5.208          15.624       17.856       899.47   \n",
            "3   22.4     4.032    5.824          21.056       21.280       827.34   \n",
            "4   12.0     4.200    3.360          10.920       10.680       878.41   \n",
            "\n",
            "   ins_losses abbrev  \n",
            "0      145.08     AL  \n",
            "1      133.93     AK  \n",
            "2      110.35     AZ  \n",
            "3      142.39     AR  \n",
            "4      165.63     CA  \n"
          ]
        }
      ],
      "source": [
        "import seaborn as sns\n",
        "import pandas as pd\n",
        "sns.get_dataset_names()\n",
        "df = sns.load_dataset('car_crashes')\n",
        "print(df.head())"
      ]
    },
    {
      "cell_type": "code",
      "execution_count": null,
      "metadata": {
        "id": "X9Ad6T03FPYv"
      },
      "outputs": [],
      "source": [
        "# 알코올 내림차순 10번째 값 파악하기\n",
        "# test"
      ]
    },
    {
      "cell_type": "code",
      "execution_count": null,
      "metadata": {
        "colab": {
          "base_uri": "https://localhost:8080/"
        },
        "id": "bTpmZLoUFZlY",
        "outputId": "4fb29591-26f1-44b6-97fc-0d0ffa14f490"
      },
      "outputs": [
        {
          "name": "stdout",
          "output_type": "stream",
          "text": [
            "5.600099999999999\n"
          ]
        }
      ],
      "source": [
        "data = df.sort_values(by=df.columns[2],ascending=False)\n",
        "ten = data.iloc[9, 2] #\n",
        "data.iloc[:10,2] = ten\n",
        "\n",
        "result = data[(data['speeding']>=7)]\n",
        "print(result['alcohol'].mean())"
      ]
    },
    {
      "cell_type": "code",
      "execution_count": null,
      "metadata": {
        "id": "HqFEplNGFfZ9"
      },
      "outputs": [],
      "source": []
    },
    {
      "cell_type": "code",
      "execution_count": 1,
      "metadata": {
        "colab": {
          "base_uri": "https://localhost:8080/"
        },
        "id": "3XTzAknj2uJ6",
        "outputId": "b0c6ff0e-979e-4dc4-9ef2-7da4d29481a7"
      },
      "outputs": [
        {
          "name": "stdout",
          "output_type": "stream",
          "text": [
            "            method  number  orbital_period   mass  distance  year\n",
            "0  Radial Velocity       1         269.300   7.10     77.40  2006\n",
            "1  Radial Velocity       1         874.774   2.21     56.95  2008\n",
            "2  Radial Velocity       1         763.000   2.60     19.84  2011\n",
            "3  Radial Velocity       1         326.030  19.40    110.62  2007\n",
            "4  Radial Velocity       1         516.220  10.50    119.47  2009\n"
          ]
        }
      ],
      "source": [
        "#sec2\n",
        "import seaborn as sns\n",
        "import pandas as pd\n",
        "import numpy as np\n",
        "df = sns.load_dataset('planets')\n",
        "print(df.head())"
      ]
    },
    {
      "cell_type": "code",
      "execution_count": null,
      "metadata": {
        "id": "ZQocPk2F4bDr"
      },
      "outputs": [],
      "source": [
        "del len"
      ]
    },
    {
      "cell_type": "code",
      "execution_count": null,
      "metadata": {
        "colab": {
          "base_uri": "https://localhost:8080/"
        },
        "id": "Z3YEuuow4yJk",
        "outputId": "e7662f05-88a5-43a8-9597-b2b62c8b1e1f"
      },
      "outputs": [
        {
          "name": "stdout",
          "output_type": "stream",
          "text": [
            "전처리 전 275.0161144074896\n",
            "전처리 후 267.0513844259766\n"
          ]
        }
      ],
      "source": [
        "lens = int(len(df)*0.7)\n",
        "df=df[:lens]\n",
        "df2 = df.copy()\n",
        "df2['distance'] = df2['distance'].fillna(df2['distance'].median())\n",
        "print('전처리 전',np.std(df['distance']))\n",
        "print('전처리 후',np.std(df2['distance']))"
      ]
    },
    {
      "cell_type": "code",
      "execution_count": null,
      "metadata": {
        "id": "GVDY6Oq25F9s"
      },
      "outputs": [],
      "source": []
    },
    {
      "cell_type": "code",
      "execution_count": 2,
      "metadata": {
        "colab": {
          "base_uri": "https://localhost:8080/"
        },
        "id": "DrFhUsKCJwhH",
        "outputId": "0f6e6ff7-c884-4d14-e5d2-2959a6a76828"
      },
      "outputs": [
        {
          "name": "stdout",
          "output_type": "stream",
          "text": [
            "            method  number  orbital_period   mass  distance  year\n",
            "0  Radial Velocity       1         269.300   7.10     77.40  2006\n",
            "1  Radial Velocity       1         874.774   2.21     56.95  2008\n",
            "2  Radial Velocity       1         763.000   2.60     19.84  2011\n",
            "3  Radial Velocity       1         326.030  19.40    110.62  2007\n",
            "4  Radial Velocity       1         516.220  10.50    119.47  2009\n"
          ]
        }
      ],
      "source": [
        "#sec3\n",
        "import seaborn as sns\n",
        "import pandas as pd\n",
        "import numpy as np\n",
        "df = sns.load_dataset('planets')\n",
        "print(df.head())"
      ]
    },
    {
      "cell_type": "code",
      "execution_count": 15,
      "metadata": {
        "id": "-ZUfqQ2wKAfB"
      },
      "outputs": [],
      "source": [
        "q25 = df['orbital_period'].quantile(0.25)\n",
        "q75 = df['orbital_period'].quantile(0.75)\n",
        "iqr = q75-q25\n",
        "min = q25 - iqr*1.5\n",
        "max = q75 + iqr*1.5"
      ]
    },
    {
      "cell_type": "code",
      "execution_count": 19,
      "metadata": {
        "id": "p2KVHlNpKO64"
      },
      "outputs": [],
      "source": [
        "anomal = df[(df['orbital_period'] <= min) | (df['orbital_period'] >= max)]"
      ]
    },
    {
      "cell_type": "code",
      "execution_count": 21,
      "metadata": {
        "colab": {
          "base_uri": "https://localhost:8080/"
        },
        "id": "pjpPtDDEKqai",
        "outputId": "44160521-f9af-4fc5-dc21-7925b99ac8f8"
      },
      "outputs": [
        {
          "data": {
            "text/plain": [
              "1818772.582"
            ]
          },
          "execution_count": 21,
          "metadata": {},
          "output_type": "execute_result"
        }
      ],
      "source": [
        "anomal['orbital_period'].sum()"
      ]
    },
    {
      "cell_type": "code",
      "execution_count": null,
      "metadata": {
        "id": "NNg6leovK6NQ"
      },
      "outputs": [],
      "source": []
    }
  ],
  "metadata": {
    "colab": {
      "authorship_tag": "ABX9TyMddGvFxFhMagJ+8EVK6jo7",
      "include_colab_link": true,
      "provenance": [],
      "toc_visible": true
    },
    "kernelspec": {
      "display_name": "Python 3",
      "name": "python3"
    },
    "language_info": {
      "name": "python"
    }
  },
  "nbformat": 4,
  "nbformat_minor": 0
}
